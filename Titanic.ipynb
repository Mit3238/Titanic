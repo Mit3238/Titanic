{
 "cells": [
  {
   "cell_type": "code",
   "execution_count": 1,
   "id": "1f1065c9",
   "metadata": {},
   "outputs": [],
   "source": [
    "import pandas as pd\n",
    "import numpy as np"
   ]
  },
  {
   "cell_type": "code",
   "execution_count": 2,
   "id": "9b92fffd",
   "metadata": {},
   "outputs": [],
   "source": [
    "df1 = pd.read_csv(\"test.csv\")\n",
    "df2 = pd.read_csv(\"train.csv\")"
   ]
  },
  {
   "cell_type": "code",
   "execution_count": 3,
   "id": "e0f901bb",
   "metadata": {},
   "outputs": [
    {
     "data": {
      "text/plain": [
       "(418, 11)"
      ]
     },
     "execution_count": 3,
     "metadata": {},
     "output_type": "execute_result"
    }
   ],
   "source": [
    "df1.shape"
   ]
  },
  {
   "cell_type": "code",
   "execution_count": 4,
   "id": "4402a6ce",
   "metadata": {},
   "outputs": [
    {
     "data": {
      "text/plain": [
       "(891, 12)"
      ]
     },
     "execution_count": 4,
     "metadata": {},
     "output_type": "execute_result"
    }
   ],
   "source": [
    "df2.shape"
   ]
  },
  {
   "cell_type": "code",
   "execution_count": 5,
   "id": "42d6c69c",
   "metadata": {},
   "outputs": [],
   "source": [
    "df = pd.concat([df1,df2], sort=False)"
   ]
  },
  {
   "cell_type": "code",
   "execution_count": 6,
   "id": "2c0b9473",
   "metadata": {},
   "outputs": [
    {
     "data": {
      "text/plain": [
       "(1309, 12)"
      ]
     },
     "execution_count": 6,
     "metadata": {},
     "output_type": "execute_result"
    }
   ],
   "source": [
    "df.shape"
   ]
  },
  {
   "cell_type": "code",
   "execution_count": 7,
   "id": "302e13cb",
   "metadata": {},
   "outputs": [
    {
     "name": "stdout",
     "output_type": "stream",
     "text": [
      "<class 'pandas.core.frame.DataFrame'>\n",
      "Int64Index: 1309 entries, 0 to 890\n",
      "Data columns (total 12 columns):\n",
      " #   Column       Non-Null Count  Dtype  \n",
      "---  ------       --------------  -----  \n",
      " 0   PassengerId  1309 non-null   int64  \n",
      " 1   Pclass       1309 non-null   int64  \n",
      " 2   Name         1309 non-null   object \n",
      " 3   Sex          1309 non-null   object \n",
      " 4   Age          1046 non-null   float64\n",
      " 5   SibSp        1309 non-null   int64  \n",
      " 6   Parch        1309 non-null   int64  \n",
      " 7   Ticket       1309 non-null   object \n",
      " 8   Fare         1308 non-null   float64\n",
      " 9   Cabin        295 non-null    object \n",
      " 10  Embarked     1307 non-null   object \n",
      " 11  Survived     891 non-null    float64\n",
      "dtypes: float64(3), int64(4), object(5)\n",
      "memory usage: 132.9+ KB\n"
     ]
    }
   ],
   "source": [
    "df.info()"
   ]
  },
  {
   "cell_type": "code",
   "execution_count": 8,
   "id": "c21ac252",
   "metadata": {},
   "outputs": [
    {
     "data": {
      "text/plain": [
       "1       1\n",
       "861     1\n",
       "879     1\n",
       "878     1\n",
       "877     1\n",
       "       ..\n",
       "436     1\n",
       "435     1\n",
       "434     1\n",
       "433     1\n",
       "1309    1\n",
       "Name: PassengerId, Length: 1309, dtype: int64"
      ]
     },
     "execution_count": 8,
     "metadata": {},
     "output_type": "execute_result"
    }
   ],
   "source": [
    "df.PassengerId.value_counts()"
   ]
  },
  {
   "cell_type": "code",
   "execution_count": 9,
   "id": "c6df01aa",
   "metadata": {},
   "outputs": [
    {
     "data": {
      "text/plain": [
       "male      843\n",
       "female    466\n",
       "Name: Sex, dtype: int64"
      ]
     },
     "execution_count": 9,
     "metadata": {},
     "output_type": "execute_result"
    }
   ],
   "source": [
    "df.Sex.value_counts()"
   ]
  },
  {
   "cell_type": "code",
   "execution_count": 10,
   "id": "6ec37695",
   "metadata": {},
   "outputs": [],
   "source": [
    "df['ismale'] = np.where(df['Sex'] == \"male\", 1, 0)"
   ]
  },
  {
   "cell_type": "code",
   "execution_count": 11,
   "id": "e325e9ec",
   "metadata": {},
   "outputs": [],
   "source": [
    "df.drop(columns='Sex', inplace=True)"
   ]
  },
  {
   "cell_type": "code",
   "execution_count": 12,
   "id": "cea65a6d",
   "metadata": {},
   "outputs": [
    {
     "name": "stdout",
     "output_type": "stream",
     "text": [
      "<class 'pandas.core.frame.DataFrame'>\n",
      "Int64Index: 1309 entries, 0 to 890\n",
      "Data columns (total 12 columns):\n",
      " #   Column       Non-Null Count  Dtype  \n",
      "---  ------       --------------  -----  \n",
      " 0   PassengerId  1309 non-null   int64  \n",
      " 1   Pclass       1309 non-null   int64  \n",
      " 2   Name         1309 non-null   object \n",
      " 3   Age          1046 non-null   float64\n",
      " 4   SibSp        1309 non-null   int64  \n",
      " 5   Parch        1309 non-null   int64  \n",
      " 6   Ticket       1309 non-null   object \n",
      " 7   Fare         1308 non-null   float64\n",
      " 8   Cabin        295 non-null    object \n",
      " 9   Embarked     1307 non-null   object \n",
      " 10  Survived     891 non-null    float64\n",
      " 11  ismale       1309 non-null   int32  \n",
      "dtypes: float64(3), int32(1), int64(4), object(4)\n",
      "memory usage: 127.8+ KB\n"
     ]
    }
   ],
   "source": [
    "df.info()"
   ]
  },
  {
   "cell_type": "code",
   "execution_count": 13,
   "id": "221a84a4",
   "metadata": {},
   "outputs": [
    {
     "data": {
      "text/plain": [
       "C23 C25 C27        6\n",
       "G6                 5\n",
       "B57 B59 B63 B66    5\n",
       "F4                 4\n",
       "C78                4\n",
       "                  ..\n",
       "C82                1\n",
       "C103               1\n",
       "C97                1\n",
       "T                  1\n",
       "C110               1\n",
       "Name: Cabin, Length: 186, dtype: int64"
      ]
     },
     "execution_count": 13,
     "metadata": {},
     "output_type": "execute_result"
    }
   ],
   "source": [
    "df.Cabin.value_counts()"
   ]
  },
  {
   "cell_type": "code",
   "execution_count": 14,
   "id": "4fb59ffd",
   "metadata": {},
   "outputs": [
    {
     "data": {
      "text/plain": [
       "S    914\n",
       "C    270\n",
       "Q    123\n",
       "Name: Embarked, dtype: int64"
      ]
     },
     "execution_count": 14,
     "metadata": {},
     "output_type": "execute_result"
    }
   ],
   "source": [
    "df.Embarked.value_counts()"
   ]
  },
  {
   "cell_type": "code",
   "execution_count": 15,
   "id": "b4f1edc6",
   "metadata": {},
   "outputs": [
    {
     "name": "stdout",
     "output_type": "stream",
     "text": [
      "<class 'pandas.core.frame.DataFrame'>\n",
      "Int64Index: 1309 entries, 0 to 890\n",
      "Data columns (total 14 columns):\n",
      " #   Column       Non-Null Count  Dtype  \n",
      "---  ------       --------------  -----  \n",
      " 0   PassengerId  1309 non-null   int64  \n",
      " 1   Pclass       1309 non-null   int64  \n",
      " 2   Name         1309 non-null   object \n",
      " 3   Age          1046 non-null   float64\n",
      " 4   SibSp        1309 non-null   int64  \n",
      " 5   Parch        1309 non-null   int64  \n",
      " 6   Ticket       1309 non-null   object \n",
      " 7   Fare         1308 non-null   float64\n",
      " 8   Cabin        295 non-null    object \n",
      " 9   Survived     891 non-null    float64\n",
      " 10  ismale       1309 non-null   int32  \n",
      " 11  Embarked_C   1309 non-null   uint8  \n",
      " 12  Embarked_Q   1309 non-null   uint8  \n",
      " 13  Embarked_S   1309 non-null   uint8  \n",
      "dtypes: float64(3), int32(1), int64(4), object(3), uint8(3)\n",
      "memory usage: 121.4+ KB\n"
     ]
    }
   ],
   "source": [
    "df = pd.get_dummies(df, columns=['Embarked'])\n",
    "#df.drop(columns='Embarked', inplace=True)\n",
    "df.info()"
   ]
  },
  {
   "cell_type": "code",
   "execution_count": 16,
   "id": "26efa415",
   "metadata": {},
   "outputs": [
    {
     "data": {
      "text/html": [
       "<div>\n",
       "<style scoped>\n",
       "    .dataframe tbody tr th:only-of-type {\n",
       "        vertical-align: middle;\n",
       "    }\n",
       "\n",
       "    .dataframe tbody tr th {\n",
       "        vertical-align: top;\n",
       "    }\n",
       "\n",
       "    .dataframe thead th {\n",
       "        text-align: right;\n",
       "    }\n",
       "</style>\n",
       "<table border=\"1\" class=\"dataframe\">\n",
       "  <thead>\n",
       "    <tr style=\"text-align: right;\">\n",
       "      <th></th>\n",
       "      <th>PassengerId</th>\n",
       "      <th>Pclass</th>\n",
       "      <th>Name</th>\n",
       "      <th>Age</th>\n",
       "      <th>SibSp</th>\n",
       "      <th>Parch</th>\n",
       "      <th>Ticket</th>\n",
       "      <th>Fare</th>\n",
       "      <th>Cabin</th>\n",
       "      <th>Survived</th>\n",
       "      <th>ismale</th>\n",
       "      <th>Embarked_C</th>\n",
       "      <th>Embarked_Q</th>\n",
       "      <th>Embarked_S</th>\n",
       "    </tr>\n",
       "  </thead>\n",
       "  <tbody>\n",
       "    <tr>\n",
       "      <th>661</th>\n",
       "      <td>662</td>\n",
       "      <td>3</td>\n",
       "      <td>Badt, Mr. Mohamed</td>\n",
       "      <td>40.0</td>\n",
       "      <td>0</td>\n",
       "      <td>0</td>\n",
       "      <td>2623</td>\n",
       "      <td>7.2250</td>\n",
       "      <td>NaN</td>\n",
       "      <td>0.0</td>\n",
       "      <td>1</td>\n",
       "      <td>1</td>\n",
       "      <td>0</td>\n",
       "      <td>0</td>\n",
       "    </tr>\n",
       "    <tr>\n",
       "      <th>610</th>\n",
       "      <td>611</td>\n",
       "      <td>3</td>\n",
       "      <td>Andersson, Mrs. Anders Johan (Alfrida Konstant...</td>\n",
       "      <td>39.0</td>\n",
       "      <td>1</td>\n",
       "      <td>5</td>\n",
       "      <td>347082</td>\n",
       "      <td>31.2750</td>\n",
       "      <td>NaN</td>\n",
       "      <td>0.0</td>\n",
       "      <td>0</td>\n",
       "      <td>0</td>\n",
       "      <td>0</td>\n",
       "      <td>1</td>\n",
       "    </tr>\n",
       "    <tr>\n",
       "      <th>753</th>\n",
       "      <td>754</td>\n",
       "      <td>3</td>\n",
       "      <td>Jonkoff, Mr. Lalio</td>\n",
       "      <td>23.0</td>\n",
       "      <td>0</td>\n",
       "      <td>0</td>\n",
       "      <td>349204</td>\n",
       "      <td>7.8958</td>\n",
       "      <td>NaN</td>\n",
       "      <td>0.0</td>\n",
       "      <td>1</td>\n",
       "      <td>0</td>\n",
       "      <td>0</td>\n",
       "      <td>1</td>\n",
       "    </tr>\n",
       "    <tr>\n",
       "      <th>29</th>\n",
       "      <td>921</td>\n",
       "      <td>3</td>\n",
       "      <td>Samaan, Mr. Elias</td>\n",
       "      <td>NaN</td>\n",
       "      <td>2</td>\n",
       "      <td>0</td>\n",
       "      <td>2662</td>\n",
       "      <td>21.6792</td>\n",
       "      <td>NaN</td>\n",
       "      <td>NaN</td>\n",
       "      <td>1</td>\n",
       "      <td>1</td>\n",
       "      <td>0</td>\n",
       "      <td>0</td>\n",
       "    </tr>\n",
       "    <tr>\n",
       "      <th>231</th>\n",
       "      <td>1123</td>\n",
       "      <td>1</td>\n",
       "      <td>Willard, Miss. Constance</td>\n",
       "      <td>21.0</td>\n",
       "      <td>0</td>\n",
       "      <td>0</td>\n",
       "      <td>113795</td>\n",
       "      <td>26.5500</td>\n",
       "      <td>NaN</td>\n",
       "      <td>NaN</td>\n",
       "      <td>0</td>\n",
       "      <td>0</td>\n",
       "      <td>0</td>\n",
       "      <td>1</td>\n",
       "    </tr>\n",
       "    <tr>\n",
       "      <th>74</th>\n",
       "      <td>75</td>\n",
       "      <td>3</td>\n",
       "      <td>Bing, Mr. Lee</td>\n",
       "      <td>32.0</td>\n",
       "      <td>0</td>\n",
       "      <td>0</td>\n",
       "      <td>1601</td>\n",
       "      <td>56.4958</td>\n",
       "      <td>NaN</td>\n",
       "      <td>1.0</td>\n",
       "      <td>1</td>\n",
       "      <td>0</td>\n",
       "      <td>0</td>\n",
       "      <td>1</td>\n",
       "    </tr>\n",
       "    <tr>\n",
       "      <th>528</th>\n",
       "      <td>529</td>\n",
       "      <td>3</td>\n",
       "      <td>Salonen, Mr. Johan Werner</td>\n",
       "      <td>39.0</td>\n",
       "      <td>0</td>\n",
       "      <td>0</td>\n",
       "      <td>3101296</td>\n",
       "      <td>7.9250</td>\n",
       "      <td>NaN</td>\n",
       "      <td>0.0</td>\n",
       "      <td>1</td>\n",
       "      <td>0</td>\n",
       "      <td>0</td>\n",
       "      <td>1</td>\n",
       "    </tr>\n",
       "  </tbody>\n",
       "</table>\n",
       "</div>"
      ],
      "text/plain": [
       "     PassengerId  Pclass                                               Name  \\\n",
       "661          662       3                                  Badt, Mr. Mohamed   \n",
       "610          611       3  Andersson, Mrs. Anders Johan (Alfrida Konstant...   \n",
       "753          754       3                                 Jonkoff, Mr. Lalio   \n",
       "29           921       3                                  Samaan, Mr. Elias   \n",
       "231         1123       1                           Willard, Miss. Constance   \n",
       "74            75       3                                      Bing, Mr. Lee   \n",
       "528          529       3                          Salonen, Mr. Johan Werner   \n",
       "\n",
       "      Age  SibSp  Parch   Ticket     Fare Cabin  Survived  ismale  Embarked_C  \\\n",
       "661  40.0      0      0     2623   7.2250   NaN       0.0       1           1   \n",
       "610  39.0      1      5   347082  31.2750   NaN       0.0       0           0   \n",
       "753  23.0      0      0   349204   7.8958   NaN       0.0       1           0   \n",
       "29    NaN      2      0     2662  21.6792   NaN       NaN       1           1   \n",
       "231  21.0      0      0   113795  26.5500   NaN       NaN       0           0   \n",
       "74   32.0      0      0     1601  56.4958   NaN       1.0       1           0   \n",
       "528  39.0      0      0  3101296   7.9250   NaN       0.0       1           0   \n",
       "\n",
       "     Embarked_Q  Embarked_S  \n",
       "661           0           0  \n",
       "610           0           1  \n",
       "753           0           1  \n",
       "29            0           0  \n",
       "231           0           1  \n",
       "74            0           1  \n",
       "528           0           1  "
      ]
     },
     "execution_count": 16,
     "metadata": {},
     "output_type": "execute_result"
    }
   ],
   "source": [
    "df.sample(7)"
   ]
  },
  {
   "cell_type": "code",
   "execution_count": 17,
   "id": "d8f367a4",
   "metadata": {},
   "outputs": [],
   "source": [
    "#df = df.astype(float)"
   ]
  },
  {
   "cell_type": "code",
   "execution_count": 18,
   "id": "435e2cb1",
   "metadata": {},
   "outputs": [],
   "source": [
    "import matplotlib.pyplot as plt\n",
    "import seaborn as sns"
   ]
  },
  {
   "cell_type": "code",
   "execution_count": 19,
   "id": "f1244d48",
   "metadata": {},
   "outputs": [
    {
     "data": {
      "text/plain": [
       "<AxesSubplot:>"
      ]
     },
     "execution_count": 19,
     "metadata": {},
     "output_type": "execute_result"
    },
    {
     "data": {
      "image/png": "[encoded data removed]",
      "text/plain": [
       "<Figure size 864x720 with 2 Axes>"
      ]
     },
     "metadata": {
      "needs_background": "light"
     },
     "output_type": "display_data"
    }
   ],
   "source": [
    "fig, ax = plt.subplots(figsize=(12, 10))\n",
    "sns.heatmap(df.corr(), annot=True)"
   ]
  },
  {
   "cell_type": "code",
   "execution_count": 20,
   "id": "86648938",
   "metadata": {},
   "outputs": [
    {
     "data": {
      "text/plain": [
       "24.0    47\n",
       "22.0    43\n",
       "21.0    41\n",
       "30.0    40\n",
       "18.0    39\n",
       "        ..\n",
       "23.5     1\n",
       "70.5     1\n",
       "26.5     1\n",
       "11.5     1\n",
       "60.5     1\n",
       "Name: Age, Length: 98, dtype: int64"
      ]
     },
     "execution_count": 20,
     "metadata": {},
     "output_type": "execute_result"
    }
   ],
   "source": [
    "df.Age.value_counts()"
   ]
  },
  {
   "cell_type": "code",
   "execution_count": 21,
   "id": "837ac05d",
   "metadata": {},
   "outputs": [
    {
     "data": {
      "text/plain": [
       "28.0"
      ]
     },
     "execution_count": 21,
     "metadata": {},
     "output_type": "execute_result"
    }
   ],
   "source": [
    "df.Age.median()"
   ]
  },
  {
   "cell_type": "code",
   "execution_count": 22,
   "id": "854afdfa",
   "metadata": {},
   "outputs": [
    {
     "data": {
      "text/plain": [
       "3    709\n",
       "1    323\n",
       "2    277\n",
       "Name: Pclass, dtype: int64"
      ]
     },
     "execution_count": 22,
     "metadata": {},
     "output_type": "execute_result"
    }
   ],
   "source": [
    "df.Pclass.value_counts()"
   ]
  },
  {
   "cell_type": "code",
   "execution_count": 23,
   "id": "2660b1b8",
   "metadata": {},
   "outputs": [
    {
     "data": {
      "text/plain": [
       "0    891\n",
       "1    319\n",
       "2     42\n",
       "4     22\n",
       "3     20\n",
       "8      9\n",
       "5      6\n",
       "Name: SibSp, dtype: int64"
      ]
     },
     "execution_count": 23,
     "metadata": {},
     "output_type": "execute_result"
    }
   ],
   "source": [
    "df.SibSp.value_counts()"
   ]
  },
  {
   "cell_type": "code",
   "execution_count": 24,
   "id": "0c9ca567",
   "metadata": {},
   "outputs": [
    {
     "data": {
      "text/html": [
       "<div>\n",
       "<style scoped>\n",
       "    .dataframe tbody tr th:only-of-type {\n",
       "        vertical-align: middle;\n",
       "    }\n",
       "\n",
       "    .dataframe tbody tr th {\n",
       "        vertical-align: top;\n",
       "    }\n",
       "\n",
       "    .dataframe thead th {\n",
       "        text-align: right;\n",
       "    }\n",
       "</style>\n",
       "<table border=\"1\" class=\"dataframe\">\n",
       "  <thead>\n",
       "    <tr style=\"text-align: right;\">\n",
       "      <th></th>\n",
       "      <th>Age</th>\n",
       "    </tr>\n",
       "    <tr>\n",
       "      <th>Pclass</th>\n",
       "      <th></th>\n",
       "    </tr>\n",
       "  </thead>\n",
       "  <tbody>\n",
       "    <tr>\n",
       "      <th>1</th>\n",
       "      <td>39.159930</td>\n",
       "    </tr>\n",
       "    <tr>\n",
       "      <th>2</th>\n",
       "      <td>29.506705</td>\n",
       "    </tr>\n",
       "    <tr>\n",
       "      <th>3</th>\n",
       "      <td>24.816367</td>\n",
       "    </tr>\n",
       "  </tbody>\n",
       "</table>\n",
       "</div>"
      ],
      "text/plain": [
       "              Age\n",
       "Pclass           \n",
       "1       39.159930\n",
       "2       29.506705\n",
       "3       24.816367"
      ]
     },
     "execution_count": 24,
     "metadata": {},
     "output_type": "execute_result"
    }
   ],
   "source": [
    "df[['Pclass', 'Age']].groupby('Pclass').mean()"
   ]
  },
  {
   "cell_type": "code",
   "execution_count": 25,
   "id": "7484f2bb",
   "metadata": {},
   "outputs": [
    {
     "data": {
      "text/html": [
       "<div>\n",
       "<style scoped>\n",
       "    .dataframe tbody tr th:only-of-type {\n",
       "        vertical-align: middle;\n",
       "    }\n",
       "\n",
       "    .dataframe tbody tr th {\n",
       "        vertical-align: top;\n",
       "    }\n",
       "\n",
       "    .dataframe thead th {\n",
       "        text-align: right;\n",
       "    }\n",
       "</style>\n",
       "<table border=\"1\" class=\"dataframe\">\n",
       "  <thead>\n",
       "    <tr style=\"text-align: right;\">\n",
       "      <th></th>\n",
       "      <th>Age</th>\n",
       "    </tr>\n",
       "    <tr>\n",
       "      <th>SibSp</th>\n",
       "      <th></th>\n",
       "    </tr>\n",
       "  </thead>\n",
       "  <tbody>\n",
       "    <tr>\n",
       "      <th>0</th>\n",
       "      <td>30.921766</td>\n",
       "    </tr>\n",
       "    <tr>\n",
       "      <th>1</th>\n",
       "      <td>31.058071</td>\n",
       "    </tr>\n",
       "    <tr>\n",
       "      <th>2</th>\n",
       "      <td>23.569444</td>\n",
       "    </tr>\n",
       "    <tr>\n",
       "      <th>3</th>\n",
       "      <td>16.312500</td>\n",
       "    </tr>\n",
       "    <tr>\n",
       "      <th>4</th>\n",
       "      <td>8.772727</td>\n",
       "    </tr>\n",
       "    <tr>\n",
       "      <th>5</th>\n",
       "      <td>10.166667</td>\n",
       "    </tr>\n",
       "    <tr>\n",
       "      <th>8</th>\n",
       "      <td>14.500000</td>\n",
       "    </tr>\n",
       "  </tbody>\n",
       "</table>\n",
       "</div>"
      ],
      "text/plain": [
       "             Age\n",
       "SibSp           \n",
       "0      30.921766\n",
       "1      31.058071\n",
       "2      23.569444\n",
       "3      16.312500\n",
       "4       8.772727\n",
       "5      10.166667\n",
       "8      14.500000"
      ]
     },
     "execution_count": 25,
     "metadata": {},
     "output_type": "execute_result"
    }
   ],
   "source": [
    "df[['SibSp', 'Age']].groupby('SibSp').mean()"
   ]
  },
  {
   "cell_type": "code",
   "execution_count": 26,
   "id": "4bc27eb8",
   "metadata": {},
   "outputs": [],
   "source": [
    "pclass_age = df.groupby('Pclass').Age.transform('median')\n",
    "df.Age.fillna(pclass_age, inplace=True)"
   ]
  },
  {
   "cell_type": "code",
   "execution_count": 27,
   "id": "6b4905c9",
   "metadata": {},
   "outputs": [],
   "source": [
    "#df['New'] = np.where(df['Age'] != np.nan, df.Age,  \n",
    "#         (np.where(df['Pclass'] == 1, 39, \n",
    "#                  (np.where(df['Pclass'] == 2, 29, \n",
    "#                           (np.where(df['Pclass'] == 3, 25, df.Age)))))))"
   ]
  },
  {
   "cell_type": "code",
   "execution_count": 28,
   "id": "5f54c099",
   "metadata": {},
   "outputs": [
    {
     "name": "stdout",
     "output_type": "stream",
     "text": [
      "<class 'pandas.core.frame.DataFrame'>\n",
      "Int64Index: 1309 entries, 0 to 890\n",
      "Data columns (total 14 columns):\n",
      " #   Column       Non-Null Count  Dtype  \n",
      "---  ------       --------------  -----  \n",
      " 0   PassengerId  1309 non-null   int64  \n",
      " 1   Pclass       1309 non-null   int64  \n",
      " 2   Name         1309 non-null   object \n",
      " 3   Age          1309 non-null   float64\n",
      " 4   SibSp        1309 non-null   int64  \n",
      " 5   Parch        1309 non-null   int64  \n",
      " 6   Ticket       1309 non-null   object \n",
      " 7   Fare         1308 non-null   float64\n",
      " 8   Cabin        295 non-null    object \n",
      " 9   Survived     891 non-null    float64\n",
      " 10  ismale       1309 non-null   int32  \n",
      " 11  Embarked_C   1309 non-null   uint8  \n",
      " 12  Embarked_Q   1309 non-null   uint8  \n",
      " 13  Embarked_S   1309 non-null   uint8  \n",
      "dtypes: float64(3), int32(1), int64(4), object(3), uint8(3)\n",
      "memory usage: 121.4+ KB\n"
     ]
    }
   ],
   "source": [
    "df.info()"
   ]
  },
  {
   "cell_type": "code",
   "execution_count": 29,
   "id": "812d0f62",
   "metadata": {},
   "outputs": [
    {
     "data": {
      "text/plain": [
       "CA. 2343     11\n",
       "1601          8\n",
       "CA 2144       8\n",
       "347082        7\n",
       "3101295       7\n",
       "             ..\n",
       "7598          1\n",
       "A/5 21171     1\n",
       "2648          1\n",
       "28404         1\n",
       "350025        1\n",
       "Name: Ticket, Length: 929, dtype: int64"
      ]
     },
     "execution_count": 29,
     "metadata": {},
     "output_type": "execute_result"
    }
   ],
   "source": [
    "df.Ticket.value_counts()"
   ]
  },
  {
   "cell_type": "code",
   "execution_count": 30,
   "id": "49ae0711",
   "metadata": {},
   "outputs": [
    {
     "data": {
      "text/plain": [
       "6"
      ]
     },
     "execution_count": 30,
     "metadata": {},
     "output_type": "execute_result"
    }
   ],
   "source": [
    "a = ['0', '1', '2', '3', '4', '5', '6', '7', '8', '9']\n",
    "li = []\n",
    "for i in df.Ticket:\n",
    "    k = ''\n",
    "    for j in i:\n",
    "        if j in a:\n",
    "            k+=j\n",
    "    li.append(k)\n",
    "len(k)"
   ]
  },
  {
   "cell_type": "code",
   "execution_count": 31,
   "id": "f8f7a915",
   "metadata": {},
   "outputs": [],
   "source": [
    "df['New'] = li"
   ]
  },
  {
   "cell_type": "code",
   "execution_count": 32,
   "id": "46f6ce3d",
   "metadata": {},
   "outputs": [
    {
     "data": {
      "text/plain": [
       "2343       11\n",
       "1601        8\n",
       "2144        8\n",
       "347077      7\n",
       "14879       7\n",
       "           ..\n",
       "3101262     1\n",
       "112053      1\n",
       "349912      1\n",
       "335677      1\n",
       "347061      1\n",
       "Name: New, Length: 924, dtype: int64"
      ]
     },
     "execution_count": 32,
     "metadata": {},
     "output_type": "execute_result"
    }
   ],
   "source": [
    "df.New.value_counts()"
   ]
  },
  {
   "cell_type": "code",
   "execution_count": 33,
   "id": "a783c6f3",
   "metadata": {},
   "outputs": [
    {
     "data": {
      "text/html": [
       "<div>\n",
       "<style scoped>\n",
       "    .dataframe tbody tr th:only-of-type {\n",
       "        vertical-align: middle;\n",
       "    }\n",
       "\n",
       "    .dataframe tbody tr th {\n",
       "        vertical-align: top;\n",
       "    }\n",
       "\n",
       "    .dataframe thead th {\n",
       "        text-align: right;\n",
       "    }\n",
       "</style>\n",
       "<table border=\"1\" class=\"dataframe\">\n",
       "  <thead>\n",
       "    <tr style=\"text-align: right;\">\n",
       "      <th></th>\n",
       "      <th>PassengerId</th>\n",
       "      <th>Pclass</th>\n",
       "      <th>Name</th>\n",
       "      <th>Age</th>\n",
       "      <th>SibSp</th>\n",
       "      <th>Parch</th>\n",
       "      <th>Ticket</th>\n",
       "      <th>Fare</th>\n",
       "      <th>Cabin</th>\n",
       "      <th>Survived</th>\n",
       "      <th>ismale</th>\n",
       "      <th>Embarked_C</th>\n",
       "      <th>Embarked_Q</th>\n",
       "      <th>Embarked_S</th>\n",
       "      <th>New</th>\n",
       "    </tr>\n",
       "  </thead>\n",
       "  <tbody>\n",
       "    <tr>\n",
       "      <th>394</th>\n",
       "      <td>1286</td>\n",
       "      <td>3</td>\n",
       "      <td>Kink-Heilmann, Mr. Anton</td>\n",
       "      <td>29.0</td>\n",
       "      <td>3</td>\n",
       "      <td>1</td>\n",
       "      <td>315153</td>\n",
       "      <td>22.0250</td>\n",
       "      <td>NaN</td>\n",
       "      <td>NaN</td>\n",
       "      <td>1</td>\n",
       "      <td>0</td>\n",
       "      <td>0</td>\n",
       "      <td>1</td>\n",
       "      <td>315153</td>\n",
       "    </tr>\n",
       "    <tr>\n",
       "      <th>659</th>\n",
       "      <td>660</td>\n",
       "      <td>1</td>\n",
       "      <td>Newell, Mr. Arthur Webster</td>\n",
       "      <td>58.0</td>\n",
       "      <td>0</td>\n",
       "      <td>2</td>\n",
       "      <td>35273</td>\n",
       "      <td>113.2750</td>\n",
       "      <td>D48</td>\n",
       "      <td>0.0</td>\n",
       "      <td>1</td>\n",
       "      <td>1</td>\n",
       "      <td>0</td>\n",
       "      <td>0</td>\n",
       "      <td>35273</td>\n",
       "    </tr>\n",
       "    <tr>\n",
       "      <th>85</th>\n",
       "      <td>86</td>\n",
       "      <td>3</td>\n",
       "      <td>Backstrom, Mrs. Karl Alfred (Maria Mathilda Gu...</td>\n",
       "      <td>33.0</td>\n",
       "      <td>3</td>\n",
       "      <td>0</td>\n",
       "      <td>3101278</td>\n",
       "      <td>15.8500</td>\n",
       "      <td>NaN</td>\n",
       "      <td>1.0</td>\n",
       "      <td>0</td>\n",
       "      <td>0</td>\n",
       "      <td>0</td>\n",
       "      <td>1</td>\n",
       "      <td>3101278</td>\n",
       "    </tr>\n",
       "    <tr>\n",
       "      <th>112</th>\n",
       "      <td>1004</td>\n",
       "      <td>1</td>\n",
       "      <td>Evans, Miss. Edith Corse</td>\n",
       "      <td>36.0</td>\n",
       "      <td>0</td>\n",
       "      <td>0</td>\n",
       "      <td>PC 17531</td>\n",
       "      <td>31.6792</td>\n",
       "      <td>A29</td>\n",
       "      <td>NaN</td>\n",
       "      <td>0</td>\n",
       "      <td>1</td>\n",
       "      <td>0</td>\n",
       "      <td>0</td>\n",
       "      <td>17531</td>\n",
       "    </tr>\n",
       "    <tr>\n",
       "      <th>107</th>\n",
       "      <td>999</td>\n",
       "      <td>3</td>\n",
       "      <td>Ryan, Mr. Edward</td>\n",
       "      <td>24.0</td>\n",
       "      <td>0</td>\n",
       "      <td>0</td>\n",
       "      <td>383162</td>\n",
       "      <td>7.7500</td>\n",
       "      <td>NaN</td>\n",
       "      <td>NaN</td>\n",
       "      <td>1</td>\n",
       "      <td>0</td>\n",
       "      <td>1</td>\n",
       "      <td>0</td>\n",
       "      <td>383162</td>\n",
       "    </tr>\n",
       "    <tr>\n",
       "      <th>696</th>\n",
       "      <td>697</td>\n",
       "      <td>3</td>\n",
       "      <td>Kelly, Mr. James</td>\n",
       "      <td>44.0</td>\n",
       "      <td>0</td>\n",
       "      <td>0</td>\n",
       "      <td>363592</td>\n",
       "      <td>8.0500</td>\n",
       "      <td>NaN</td>\n",
       "      <td>0.0</td>\n",
       "      <td>1</td>\n",
       "      <td>0</td>\n",
       "      <td>0</td>\n",
       "      <td>1</td>\n",
       "      <td>363592</td>\n",
       "    </tr>\n",
       "    <tr>\n",
       "      <th>569</th>\n",
       "      <td>570</td>\n",
       "      <td>3</td>\n",
       "      <td>Jonsson, Mr. Carl</td>\n",
       "      <td>32.0</td>\n",
       "      <td>0</td>\n",
       "      <td>0</td>\n",
       "      <td>350417</td>\n",
       "      <td>7.8542</td>\n",
       "      <td>NaN</td>\n",
       "      <td>1.0</td>\n",
       "      <td>1</td>\n",
       "      <td>0</td>\n",
       "      <td>0</td>\n",
       "      <td>1</td>\n",
       "      <td>350417</td>\n",
       "    </tr>\n",
       "    <tr>\n",
       "      <th>538</th>\n",
       "      <td>539</td>\n",
       "      <td>3</td>\n",
       "      <td>Risien, Mr. Samuel Beard</td>\n",
       "      <td>24.0</td>\n",
       "      <td>0</td>\n",
       "      <td>0</td>\n",
       "      <td>364498</td>\n",
       "      <td>14.5000</td>\n",
       "      <td>NaN</td>\n",
       "      <td>0.0</td>\n",
       "      <td>1</td>\n",
       "      <td>0</td>\n",
       "      <td>0</td>\n",
       "      <td>1</td>\n",
       "      <td>364498</td>\n",
       "    </tr>\n",
       "    <tr>\n",
       "      <th>5</th>\n",
       "      <td>897</td>\n",
       "      <td>3</td>\n",
       "      <td>Svensson, Mr. Johan Cervin</td>\n",
       "      <td>14.0</td>\n",
       "      <td>0</td>\n",
       "      <td>0</td>\n",
       "      <td>7538</td>\n",
       "      <td>9.2250</td>\n",
       "      <td>NaN</td>\n",
       "      <td>NaN</td>\n",
       "      <td>1</td>\n",
       "      <td>0</td>\n",
       "      <td>0</td>\n",
       "      <td>1</td>\n",
       "      <td>7538</td>\n",
       "    </tr>\n",
       "    <tr>\n",
       "      <th>404</th>\n",
       "      <td>1296</td>\n",
       "      <td>1</td>\n",
       "      <td>Frauenthal, Mr. Isaac Gerald</td>\n",
       "      <td>43.0</td>\n",
       "      <td>1</td>\n",
       "      <td>0</td>\n",
       "      <td>17765</td>\n",
       "      <td>27.7208</td>\n",
       "      <td>D40</td>\n",
       "      <td>NaN</td>\n",
       "      <td>1</td>\n",
       "      <td>1</td>\n",
       "      <td>0</td>\n",
       "      <td>0</td>\n",
       "      <td>17765</td>\n",
       "    </tr>\n",
       "  </tbody>\n",
       "</table>\n",
       "</div>"
      ],
      "text/plain": [
       "     PassengerId  Pclass                                               Name  \\\n",
       "394         1286       3                           Kink-Heilmann, Mr. Anton   \n",
       "659          660       1                         Newell, Mr. Arthur Webster   \n",
       "85            86       3  Backstrom, Mrs. Karl Alfred (Maria Mathilda Gu...   \n",
       "112         1004       1                           Evans, Miss. Edith Corse   \n",
       "107          999       3                                   Ryan, Mr. Edward   \n",
       "696          697       3                                   Kelly, Mr. James   \n",
       "569          570       3                                  Jonsson, Mr. Carl   \n",
       "538          539       3                           Risien, Mr. Samuel Beard   \n",
       "5            897       3                         Svensson, Mr. Johan Cervin   \n",
       "404         1296       1                       Frauenthal, Mr. Isaac Gerald   \n",
       "\n",
       "      Age  SibSp  Parch    Ticket      Fare Cabin  Survived  ismale  \\\n",
       "394  29.0      3      1    315153   22.0250   NaN       NaN       1   \n",
       "659  58.0      0      2     35273  113.2750   D48       0.0       1   \n",
       "85   33.0      3      0   3101278   15.8500   NaN       1.0       0   \n",
       "112  36.0      0      0  PC 17531   31.6792   A29       NaN       0   \n",
       "107  24.0      0      0    383162    7.7500   NaN       NaN       1   \n",
       "696  44.0      0      0    363592    8.0500   NaN       0.0       1   \n",
       "569  32.0      0      0    350417    7.8542   NaN       1.0       1   \n",
       "538  24.0      0      0    364498   14.5000   NaN       0.0       1   \n",
       "5    14.0      0      0      7538    9.2250   NaN       NaN       1   \n",
       "404  43.0      1      0     17765   27.7208   D40       NaN       1   \n",
       "\n",
       "     Embarked_C  Embarked_Q  Embarked_S      New  \n",
       "394           0           0           1   315153  \n",
       "659           1           0           0    35273  \n",
       "85            0           0           1  3101278  \n",
       "112           1           0           0    17531  \n",
       "107           0           1           0   383162  \n",
       "696           0           0           1   363592  \n",
       "569           0           0           1   350417  \n",
       "538           0           0           1   364498  \n",
       "5             0           0           1     7538  \n",
       "404           1           0           0    17765  "
      ]
     },
     "execution_count": 33,
     "metadata": {},
     "output_type": "execute_result"
    }
   ],
   "source": [
    "df.sample(10)"
   ]
  },
  {
   "cell_type": "code",
   "execution_count": 34,
   "id": "019c333f",
   "metadata": {},
   "outputs": [],
   "source": [
    "df.rename(columns={'New':'Ticket_int'}, inplace=True)"
   ]
  },
  {
   "cell_type": "code",
   "execution_count": 35,
   "id": "846fe012",
   "metadata": {},
   "outputs": [],
   "source": [
    "df.Ticket_int = np.where(df.Ticket_int == '', 0, df.Ticket_int)"
   ]
  },
  {
   "cell_type": "code",
   "execution_count": 36,
   "id": "e50f2623",
   "metadata": {},
   "outputs": [],
   "source": [
    "df = df.astype({'Ticket_int':float})"
   ]
  },
  {
   "cell_type": "code",
   "execution_count": 37,
   "id": "7c528a84",
   "metadata": {},
   "outputs": [
    {
     "data": {
      "text/plain": [
       "2343.0        11\n",
       "2144.0         8\n",
       "1601.0         8\n",
       "347082.0       7\n",
       "14879.0        7\n",
       "              ..\n",
       "2696.0         1\n",
       "244270.0       1\n",
       "372622.0       1\n",
       "23101280.0     1\n",
       "248746.0       1\n",
       "Name: Ticket_int, Length: 924, dtype: int64"
      ]
     },
     "execution_count": 37,
     "metadata": {},
     "output_type": "execute_result"
    }
   ],
   "source": [
    "df.Ticket_int.value_counts()"
   ]
  },
  {
   "cell_type": "code",
   "execution_count": 38,
   "id": "1726a2a4",
   "metadata": {},
   "outputs": [
    {
     "name": "stdout",
     "output_type": "stream",
     "text": [
      "<class 'pandas.core.frame.DataFrame'>\n",
      "Int64Index: 1309 entries, 0 to 890\n",
      "Data columns (total 15 columns):\n",
      " #   Column       Non-Null Count  Dtype  \n",
      "---  ------       --------------  -----  \n",
      " 0   PassengerId  1309 non-null   int64  \n",
      " 1   Pclass       1309 non-null   int64  \n",
      " 2   Name         1309 non-null   object \n",
      " 3   Age          1309 non-null   float64\n",
      " 4   SibSp        1309 non-null   int64  \n",
      " 5   Parch        1309 non-null   int64  \n",
      " 6   Ticket       1309 non-null   object \n",
      " 7   Fare         1308 non-null   float64\n",
      " 8   Cabin        295 non-null    object \n",
      " 9   Survived     891 non-null    float64\n",
      " 10  ismale       1309 non-null   int32  \n",
      " 11  Embarked_C   1309 non-null   uint8  \n",
      " 12  Embarked_Q   1309 non-null   uint8  \n",
      " 13  Embarked_S   1309 non-null   uint8  \n",
      " 14  Ticket_int   1309 non-null   float64\n",
      "dtypes: float64(4), int32(1), int64(4), object(3), uint8(3)\n",
      "memory usage: 131.7+ KB\n"
     ]
    }
   ],
   "source": [
    "df.info()"
   ]
  },
  {
   "cell_type": "code",
   "execution_count": 39,
   "id": "33afdc88",
   "metadata": {},
   "outputs": [],
   "source": [
    "df.drop(columns='Ticket', inplace=True)"
   ]
  },
  {
   "cell_type": "code",
   "execution_count": 40,
   "id": "145f4904",
   "metadata": {},
   "outputs": [
    {
     "data": {
      "text/plain": [
       "C23 C25 C27        6\n",
       "G6                 5\n",
       "B57 B59 B63 B66    5\n",
       "F4                 4\n",
       "C78                4\n",
       "                  ..\n",
       "C82                1\n",
       "C103               1\n",
       "C97                1\n",
       "T                  1\n",
       "C110               1\n",
       "Name: Cabin, Length: 186, dtype: int64"
      ]
     },
     "execution_count": 40,
     "metadata": {},
     "output_type": "execute_result"
    }
   ],
   "source": [
    "df.Cabin.value_counts()"
   ]
  },
  {
   "cell_type": "code",
   "execution_count": 41,
   "id": "34737f3c",
   "metadata": {},
   "outputs": [],
   "source": [
    "df.Cabin.fillna('Z', inplace=True)"
   ]
  },
  {
   "cell_type": "code",
   "execution_count": 42,
   "id": "d23b87b9",
   "metadata": {},
   "outputs": [],
   "source": [
    "def getchar(new):\n",
    "    return new[0]"
   ]
  },
  {
   "cell_type": "code",
   "execution_count": 43,
   "id": "51995370",
   "metadata": {},
   "outputs": [],
   "source": [
    "df.Cabin = df.Cabin.map(lambda x: getchar(x))"
   ]
  },
  {
   "cell_type": "code",
   "execution_count": 44,
   "id": "54b75d74",
   "metadata": {},
   "outputs": [
    {
     "name": "stdout",
     "output_type": "stream",
     "text": [
      "<class 'pandas.core.frame.DataFrame'>\n",
      "Int64Index: 1309 entries, 0 to 890\n",
      "Data columns (total 14 columns):\n",
      " #   Column       Non-Null Count  Dtype  \n",
      "---  ------       --------------  -----  \n",
      " 0   PassengerId  1309 non-null   int64  \n",
      " 1   Pclass       1309 non-null   int64  \n",
      " 2   Name         1309 non-null   object \n",
      " 3   Age          1309 non-null   float64\n",
      " 4   SibSp        1309 non-null   int64  \n",
      " 5   Parch        1309 non-null   int64  \n",
      " 6   Fare         1308 non-null   float64\n",
      " 7   Cabin        1309 non-null   object \n",
      " 8   Survived     891 non-null    float64\n",
      " 9   ismale       1309 non-null   int32  \n",
      " 10  Embarked_C   1309 non-null   uint8  \n",
      " 11  Embarked_Q   1309 non-null   uint8  \n",
      " 12  Embarked_S   1309 non-null   uint8  \n",
      " 13  Ticket_int   1309 non-null   float64\n",
      "dtypes: float64(4), int32(1), int64(4), object(2), uint8(3)\n",
      "memory usage: 121.4+ KB\n"
     ]
    }
   ],
   "source": [
    "df.info()"
   ]
  },
  {
   "cell_type": "code",
   "execution_count": 45,
   "id": "3e89a48f",
   "metadata": {},
   "outputs": [],
   "source": [
    "df.drop(columns='Name', inplace=True)"
   ]
  },
  {
   "cell_type": "code",
   "execution_count": 46,
   "id": "77079fa4",
   "metadata": {},
   "outputs": [],
   "source": [
    "df.Survived.fillna(-1, inplace=True)"
   ]
  },
  {
   "cell_type": "code",
   "execution_count": 47,
   "id": "c2e83a57",
   "metadata": {},
   "outputs": [],
   "source": [
    "train = df[df.Survived != -1]"
   ]
  },
  {
   "cell_type": "code",
   "execution_count": 48,
   "id": "b3a418a9",
   "metadata": {},
   "outputs": [
    {
     "name": "stdout",
     "output_type": "stream",
     "text": [
      "<class 'pandas.core.frame.DataFrame'>\n",
      "Int64Index: 891 entries, 0 to 890\n",
      "Data columns (total 13 columns):\n",
      " #   Column       Non-Null Count  Dtype  \n",
      "---  ------       --------------  -----  \n",
      " 0   PassengerId  891 non-null    int64  \n",
      " 1   Pclass       891 non-null    int64  \n",
      " 2   Age          891 non-null    float64\n",
      " 3   SibSp        891 non-null    int64  \n",
      " 4   Parch        891 non-null    int64  \n",
      " 5   Fare         891 non-null    float64\n",
      " 6   Cabin        891 non-null    object \n",
      " 7   Survived     891 non-null    float64\n",
      " 8   ismale       891 non-null    int32  \n",
      " 9   Embarked_C   891 non-null    uint8  \n",
      " 10  Embarked_Q   891 non-null    uint8  \n",
      " 11  Embarked_S   891 non-null    uint8  \n",
      " 12  Ticket_int   891 non-null    float64\n",
      "dtypes: float64(4), int32(1), int64(4), object(1), uint8(3)\n",
      "memory usage: 75.7+ KB\n"
     ]
    }
   ],
   "source": [
    "train.info()"
   ]
  },
  {
   "cell_type": "code",
   "execution_count": 49,
   "id": "084853c8",
   "metadata": {},
   "outputs": [],
   "source": [
    "test = df[df.Survived == -1]"
   ]
  },
  {
   "cell_type": "code",
   "execution_count": 50,
   "id": "a5827075",
   "metadata": {},
   "outputs": [
    {
     "name": "stdout",
     "output_type": "stream",
     "text": [
      "<class 'pandas.core.frame.DataFrame'>\n",
      "Int64Index: 418 entries, 0 to 417\n",
      "Data columns (total 13 columns):\n",
      " #   Column       Non-Null Count  Dtype  \n",
      "---  ------       --------------  -----  \n",
      " 0   PassengerId  418 non-null    int64  \n",
      " 1   Pclass       418 non-null    int64  \n",
      " 2   Age          418 non-null    float64\n",
      " 3   SibSp        418 non-null    int64  \n",
      " 4   Parch        418 non-null    int64  \n",
      " 5   Fare         417 non-null    float64\n",
      " 6   Cabin        418 non-null    object \n",
      " 7   Survived     418 non-null    float64\n",
      " 8   ismale       418 non-null    int32  \n",
      " 9   Embarked_C   418 non-null    uint8  \n",
      " 10  Embarked_Q   418 non-null    uint8  \n",
      " 11  Embarked_S   418 non-null    uint8  \n",
      " 12  Ticket_int   418 non-null    float64\n",
      "dtypes: float64(4), int32(1), int64(4), object(1), uint8(3)\n",
      "memory usage: 35.5+ KB\n"
     ]
    }
   ],
   "source": [
    "test.info()"
   ]
  },
  {
   "cell_type": "code",
   "execution_count": 51,
   "id": "265c67ff",
   "metadata": {},
   "outputs": [
    {
     "data": {
      "text/plain": [
       "Z    1014\n",
       "C      94\n",
       "B      65\n",
       "D      46\n",
       "E      41\n",
       "A      22\n",
       "F      21\n",
       "G       5\n",
       "T       1\n",
       "Name: Cabin, dtype: int64"
      ]
     },
     "execution_count": 51,
     "metadata": {},
     "output_type": "execute_result"
    }
   ],
   "source": [
    "df.Cabin.value_counts()"
   ]
  },
  {
   "cell_type": "code",
   "execution_count": 52,
   "id": "59656e72",
   "metadata": {},
   "outputs": [],
   "source": [
    "df['Cabin_int'] = np.where(df.Cabin == 'A', 1, \n",
    "                   np.where(df.Cabin == 'B', 2, \n",
    "                   np.where(df.Cabin == 'C', 3, \n",
    "                   np.where(df.Cabin == 'D', 4, \n",
    "                   np.where(df.Cabin == 'E', 5, \n",
    "                   np.where(df.Cabin == 'F', 6,\n",
    "                   np.where(df.Cabin == 'G', 7, 0)))))))"
   ]
  },
  {
   "cell_type": "code",
   "execution_count": 53,
   "id": "0592a35e",
   "metadata": {},
   "outputs": [
    {
     "name": "stdout",
     "output_type": "stream",
     "text": [
      "<class 'pandas.core.frame.DataFrame'>\n",
      "Int64Index: 1309 entries, 0 to 890\n",
      "Data columns (total 14 columns):\n",
      " #   Column       Non-Null Count  Dtype  \n",
      "---  ------       --------------  -----  \n",
      " 0   PassengerId  1309 non-null   int64  \n",
      " 1   Pclass       1309 non-null   int64  \n",
      " 2   Age          1309 non-null   float64\n",
      " 3   SibSp        1309 non-null   int64  \n",
      " 4   Parch        1309 non-null   int64  \n",
      " 5   Fare         1308 non-null   float64\n",
      " 6   Cabin        1309 non-null   object \n",
      " 7   Survived     1309 non-null   float64\n",
      " 8   ismale       1309 non-null   int32  \n",
      " 9   Embarked_C   1309 non-null   uint8  \n",
      " 10  Embarked_Q   1309 non-null   uint8  \n",
      " 11  Embarked_S   1309 non-null   uint8  \n",
      " 12  Ticket_int   1309 non-null   float64\n",
      " 13  Cabin_int    1309 non-null   int32  \n",
      "dtypes: float64(4), int32(2), int64(4), object(1), uint8(3)\n",
      "memory usage: 116.3+ KB\n"
     ]
    }
   ],
   "source": [
    "df.info()"
   ]
  },
  {
   "cell_type": "code",
   "execution_count": 54,
   "id": "a69a9524",
   "metadata": {},
   "outputs": [
    {
     "data": {
      "text/plain": [
       "dtype('int32')"
      ]
     },
     "execution_count": 54,
     "metadata": {},
     "output_type": "execute_result"
    }
   ],
   "source": [
    "df.Cabin_int.dtype"
   ]
  },
  {
   "cell_type": "code",
   "execution_count": 55,
   "id": "4401efd8",
   "metadata": {},
   "outputs": [],
   "source": [
    "df = df.astype({'Cabin_int':float})"
   ]
  },
  {
   "cell_type": "code",
   "execution_count": 56,
   "id": "2b01239c",
   "metadata": {},
   "outputs": [
    {
     "name": "stdout",
     "output_type": "stream",
     "text": [
      "<class 'pandas.core.frame.DataFrame'>\n",
      "Int64Index: 1309 entries, 0 to 890\n",
      "Data columns (total 14 columns):\n",
      " #   Column       Non-Null Count  Dtype  \n",
      "---  ------       --------------  -----  \n",
      " 0   PassengerId  1309 non-null   int64  \n",
      " 1   Pclass       1309 non-null   int64  \n",
      " 2   Age          1309 non-null   float64\n",
      " 3   SibSp        1309 non-null   int64  \n",
      " 4   Parch        1309 non-null   int64  \n",
      " 5   Fare         1308 non-null   float64\n",
      " 6   Cabin        1309 non-null   object \n",
      " 7   Survived     1309 non-null   float64\n",
      " 8   ismale       1309 non-null   int32  \n",
      " 9   Embarked_C   1309 non-null   uint8  \n",
      " 10  Embarked_Q   1309 non-null   uint8  \n",
      " 11  Embarked_S   1309 non-null   uint8  \n",
      " 12  Ticket_int   1309 non-null   float64\n",
      " 13  Cabin_int    1309 non-null   float64\n",
      "dtypes: float64(5), int32(1), int64(4), object(1), uint8(3)\n",
      "memory usage: 121.4+ KB\n"
     ]
    }
   ],
   "source": [
    "df.info()"
   ]
  },
  {
   "cell_type": "code",
   "execution_count": 57,
   "id": "29d0a18e",
   "metadata": {},
   "outputs": [
    {
     "data": {
      "text/plain": [
       "8.0500     60\n",
       "13.0000    59\n",
       "7.7500     55\n",
       "26.0000    50\n",
       "7.8958     49\n",
       "           ..\n",
       "8.4333      1\n",
       "6.2375      1\n",
       "26.3875     1\n",
       "38.5000     1\n",
       "9.8458      1\n",
       "Name: Fare, Length: 281, dtype: int64"
      ]
     },
     "execution_count": 57,
     "metadata": {},
     "output_type": "execute_result"
    }
   ],
   "source": [
    "df.Fare.value_counts()"
   ]
  },
  {
   "cell_type": "code",
   "execution_count": 58,
   "id": "1307716d",
   "metadata": {},
   "outputs": [],
   "source": [
    "df.Fare.fillna(8, inplace=True)"
   ]
  },
  {
   "cell_type": "code",
   "execution_count": 59,
   "id": "d1c76a49",
   "metadata": {},
   "outputs": [],
   "source": [
    "df.drop(columns='Cabin', inplace=True)"
   ]
  },
  {
   "cell_type": "markdown",
   "id": "ea4f71a6",
   "metadata": {},
   "source": [
    "# AI / ML"
   ]
  },
  {
   "cell_type": "code",
   "execution_count": 60,
   "id": "94bed36f",
   "metadata": {},
   "outputs": [],
   "source": [
    "train = df[df.Survived != -1]"
   ]
  },
  {
   "cell_type": "code",
   "execution_count": 61,
   "id": "5b15af9e",
   "metadata": {},
   "outputs": [
    {
     "name": "stdout",
     "output_type": "stream",
     "text": [
      "<class 'pandas.core.frame.DataFrame'>\n",
      "Int64Index: 891 entries, 0 to 890\n",
      "Data columns (total 13 columns):\n",
      " #   Column       Non-Null Count  Dtype  \n",
      "---  ------       --------------  -----  \n",
      " 0   PassengerId  891 non-null    int64  \n",
      " 1   Pclass       891 non-null    int64  \n",
      " 2   Age          891 non-null    float64\n",
      " 3   SibSp        891 non-null    int64  \n",
      " 4   Parch        891 non-null    int64  \n",
      " 5   Fare         891 non-null    float64\n",
      " 6   Survived     891 non-null    float64\n",
      " 7   ismale       891 non-null    int32  \n",
      " 8   Embarked_C   891 non-null    uint8  \n",
      " 9   Embarked_Q   891 non-null    uint8  \n",
      " 10  Embarked_S   891 non-null    uint8  \n",
      " 11  Ticket_int   891 non-null    float64\n",
      " 12  Cabin_int    891 non-null    float64\n",
      "dtypes: float64(5), int32(1), int64(4), uint8(3)\n",
      "memory usage: 75.7 KB\n"
     ]
    }
   ],
   "source": [
    "train.info()"
   ]
  },
  {
   "cell_type": "code",
   "execution_count": 62,
   "id": "76edd746",
   "metadata": {},
   "outputs": [],
   "source": [
    "test = df[df.Survived == -1].astype(float)"
   ]
  },
  {
   "cell_type": "code",
   "execution_count": 63,
   "id": "b1f801ba",
   "metadata": {},
   "outputs": [
    {
     "name": "stdout",
     "output_type": "stream",
     "text": [
      "<class 'pandas.core.frame.DataFrame'>\n",
      "Int64Index: 418 entries, 0 to 417\n",
      "Data columns (total 13 columns):\n",
      " #   Column       Non-Null Count  Dtype  \n",
      "---  ------       --------------  -----  \n",
      " 0   PassengerId  418 non-null    float64\n",
      " 1   Pclass       418 non-null    float64\n",
      " 2   Age          418 non-null    float64\n",
      " 3   SibSp        418 non-null    float64\n",
      " 4   Parch        418 non-null    float64\n",
      " 5   Fare         418 non-null    float64\n",
      " 6   Survived     418 non-null    float64\n",
      " 7   ismale       418 non-null    float64\n",
      " 8   Embarked_C   418 non-null    float64\n",
      " 9   Embarked_Q   418 non-null    float64\n",
      " 10  Embarked_S   418 non-null    float64\n",
      " 11  Ticket_int   418 non-null    float64\n",
      " 12  Cabin_int    418 non-null    float64\n",
      "dtypes: float64(13)\n",
      "memory usage: 45.7 KB\n"
     ]
    }
   ],
   "source": [
    "test.info()"
   ]
  },
  {
   "cell_type": "code",
   "execution_count": 64,
   "id": "c373b3bf",
   "metadata": {},
   "outputs": [],
   "source": [
    "test.drop(columns='Survived', inplace=True)"
   ]
  },
  {
   "cell_type": "code",
   "execution_count": 65,
   "id": "fe8bf475",
   "metadata": {},
   "outputs": [],
   "source": [
    "x = train.drop(columns='Survived').astype(float)"
   ]
  },
  {
   "cell_type": "code",
   "execution_count": 66,
   "id": "158e87df",
   "metadata": {},
   "outputs": [
    {
     "name": "stdout",
     "output_type": "stream",
     "text": [
      "<class 'pandas.core.frame.DataFrame'>\n",
      "Int64Index: 891 entries, 0 to 890\n",
      "Data columns (total 12 columns):\n",
      " #   Column       Non-Null Count  Dtype  \n",
      "---  ------       --------------  -----  \n",
      " 0   PassengerId  891 non-null    float64\n",
      " 1   Pclass       891 non-null    float64\n",
      " 2   Age          891 non-null    float64\n",
      " 3   SibSp        891 non-null    float64\n",
      " 4   Parch        891 non-null    float64\n",
      " 5   Fare         891 non-null    float64\n",
      " 6   ismale       891 non-null    float64\n",
      " 7   Embarked_C   891 non-null    float64\n",
      " 8   Embarked_Q   891 non-null    float64\n",
      " 9   Embarked_S   891 non-null    float64\n",
      " 10  Ticket_int   891 non-null    float64\n",
      " 11  Cabin_int    891 non-null    float64\n",
      "dtypes: float64(12)\n",
      "memory usage: 90.5 KB\n"
     ]
    }
   ],
   "source": [
    "x.info()"
   ]
  },
  {
   "cell_type": "code",
   "execution_count": 67,
   "id": "2d4fe6e4",
   "metadata": {},
   "outputs": [],
   "source": [
    "y = train.Survived"
   ]
  },
  {
   "cell_type": "code",
   "execution_count": 68,
   "id": "4594ffa8",
   "metadata": {},
   "outputs": [
    {
     "data": {
      "text/plain": [
       "0.0    549\n",
       "1.0    342\n",
       "Name: Survived, dtype: int64"
      ]
     },
     "execution_count": 68,
     "metadata": {},
     "output_type": "execute_result"
    }
   ],
   "source": [
    "y.value_counts()"
   ]
  },
  {
   "cell_type": "code",
   "execution_count": 69,
   "id": "3aa33ced",
   "metadata": {},
   "outputs": [
    {
     "name": "stdout",
     "output_type": "stream",
     "text": [
      "(712, 12) (712,)\n",
      "(179, 12) (179,)\n"
     ]
    }
   ],
   "source": [
    "from sklearn.model_selection import train_test_split\n",
    "x_train, x_test, y_train, y_test = train_test_split(x, y, test_size=0.2, random_state=0)\n",
    "\n",
    "print(x_train.shape, y_train.shape)\n",
    "print(x_test.shape, y_test.shape)"
   ]
  },
  {
   "cell_type": "code",
   "execution_count": 70,
   "id": "88524db8",
   "metadata": {},
   "outputs": [
    {
     "name": "stdout",
     "output_type": "stream",
     "text": [
      "0.3854748603351955\n",
      "0.38342696629213485\n"
     ]
    }
   ],
   "source": [
    "print(np.mean(y_test))\n",
    "print(np.mean(y_train))"
   ]
  },
  {
   "cell_type": "code",
   "execution_count": 71,
   "id": "fe830794",
   "metadata": {},
   "outputs": [],
   "source": [
    "def get_csv(model, test, ans_name):\n",
    "    prediction = model.predict(test)\n",
    "    \n",
    "    prediction_ans = []\n",
    "    for i in prediction:\n",
    "        if i < 0.5:\n",
    "            prediction_ans.append(0)\n",
    "        else:\n",
    "            prediction_ans.append(1)\n",
    "            \n",
    "    prediction = pd.DataFrame(prediction_ans)\n",
    "    ans = pd.concat([test.PassengerId, prediction], axis=1).astype(int)\n",
    "    ans.rename(columns={0:'Survived'}, inplace=True)\n",
    "    ans.to_csv(ans_name, index=False)"
   ]
  },
  {
   "cell_type": "code",
   "execution_count": 72,
   "id": "6fe86240",
   "metadata": {},
   "outputs": [
    {
     "ename": "SyntaxError",
     "evalue": "invalid syntax (<ipython-input-72-d76e22c112c9>, line 1)",
     "output_type": "error",
     "traceback": [
      "\u001b[1;36m  File \u001b[1;32m\"<ipython-input-72-d76e22c112c9>\"\u001b[1;36m, line \u001b[1;32m1\u001b[0m\n\u001b[1;33m    import\u001b[0m\n\u001b[1;37m          ^\u001b[0m\n\u001b[1;31mSyntaxError\u001b[0m\u001b[1;31m:\u001b[0m invalid syntax\n"
     ]
    }
   ],
   "source": [
    "import"
   ]
  },
  {
   "cell_type": "code",
   "execution_count": null,
   "id": "d7c29636",
   "metadata": {},
   "outputs": [],
   "source": [
    "from sklearn.linear_model import LogisticRegression"
   ]
  },
  {
   "cell_type": "code",
   "execution_count": null,
   "id": "b52bf34c",
   "metadata": {},
   "outputs": [],
   "source": [
    "model = LogisticRegression(random_state=1)"
   ]
  },
  {
   "cell_type": "code",
   "execution_count": null,
   "id": "c121313a",
   "metadata": {},
   "outputs": [],
   "source": [
    "model.fit(x_train, y_train)"
   ]
  },
  {
   "cell_type": "code",
   "execution_count": null,
   "id": "2ecf3be0",
   "metadata": {},
   "outputs": [],
   "source": [
    "model.score(x_test, y_test)"
   ]
  },
  {
   "cell_type": "code",
   "execution_count": null,
   "id": "5008c3b1",
   "metadata": {},
   "outputs": [],
   "source": [
    "prediction_1 = model.predict(test)"
   ]
  },
  {
   "cell_type": "code",
   "execution_count": null,
   "id": "0d928f5b",
   "metadata": {},
   "outputs": [],
   "source": [
    "k = 0\n",
    "for i in prediction_1:\n",
    "    if i == 0:\n",
    "        k+=1\n",
    "print(k)"
   ]
  },
  {
   "cell_type": "code",
   "execution_count": 92,
   "id": "45f23ea1",
   "metadata": {},
   "outputs": [],
   "source": [
    "from sklearn.linear_model import LinearRegression"
   ]
  },
  {
   "cell_type": "code",
   "execution_count": 93,
   "id": "56ff00ee",
   "metadata": {},
   "outputs": [],
   "source": [
    "model_1 = LinearRegression()"
   ]
  },
  {
   "cell_type": "code",
   "execution_count": null,
   "id": "0accf2ad",
   "metadata": {},
   "outputs": [],
   "source": [
    "new_x_train = x_train[['PassengerId', 'Pclass', 'ismale', 'Cabin_int']]\n",
    "new_x_train.sample(5)"
   ]
  },
  {
   "cell_type": "code",
   "execution_count": null,
   "id": "8d85d75c",
   "metadata": {},
   "outputs": [],
   "source": [
    "model_1.fit(x_train[['PassengerId', 'Pclass', 'ismale', 'Cabin_int']], y_train)"
   ]
  },
  {
   "cell_type": "code",
   "execution_count": null,
   "id": "101d4963",
   "metadata": {},
   "outputs": [],
   "source": [
    "model_1.score(x_test[['PassengerId', 'Pclass', 'ismale', 'Cabin_int']], y_test)"
   ]
  },
  {
   "cell_type": "code",
   "execution_count": null,
   "id": "086b7607",
   "metadata": {},
   "outputs": [],
   "source": [
    "prediction_1 = model_1.predict(test[['PassengerId', 'Pclass', 'ismale', 'Cabin_int']])"
   ]
  },
  {
   "cell_type": "code",
   "execution_count": null,
   "id": "3bec41e8",
   "metadata": {},
   "outputs": [],
   "source": [
    "prediction_2 = []\n",
    "for i in prediction_1:\n",
    "    if i < 0.5:\n",
    "        prediction_2.append(0)\n",
    "    else:\n",
    "        prediction_2.append(1)"
   ]
  },
  {
   "cell_type": "code",
   "execution_count": null,
   "id": "ad5091b0",
   "metadata": {},
   "outputs": [],
   "source": [
    "len(prediction_2)\n",
    "prediction_2"
   ]
  },
  {
   "cell_type": "code",
   "execution_count": null,
   "id": "815f3a18",
   "metadata": {},
   "outputs": [],
   "source": [
    "prediction_2 = pd.DataFrame(prediction_2)"
   ]
  },
  {
   "cell_type": "code",
   "execution_count": null,
   "id": "ae139676",
   "metadata": {},
   "outputs": [],
   "source": [
    "ans_1 = pd.concat([test.PassengerId, prediction_2], axis=1).astype(int)"
   ]
  },
  {
   "cell_type": "code",
   "execution_count": null,
   "id": "56748bf5",
   "metadata": {},
   "outputs": [],
   "source": [
    "ans_1.rename(columns={0:'Survived'}, inplace=True)"
   ]
  },
  {
   "cell_type": "code",
   "execution_count": null,
   "id": "7a86cb6a",
   "metadata": {},
   "outputs": [],
   "source": [
    "ans_1.sample(5)"
   ]
  },
  {
   "cell_type": "code",
   "execution_count": null,
   "id": "f7d57d2d",
   "metadata": {},
   "outputs": [],
   "source": [
    "#ans_1.to_csv('ans_3.csv', index=False)"
   ]
  },
  {
   "cell_type": "code",
   "execution_count": 84,
   "id": "4fd749a3",
   "metadata": {},
   "outputs": [],
   "source": [
    "from sklearn.linear_model import HuberRegressor\n",
    "from sklearn.linear_model import MultiTaskElasticNet\n",
    "from sklearn.linear_model import PassiveAggressiveRegressor\n",
    "from sklearn.linear_model import PoissonRegressor\n",
    "from sklearn.linear_model import RANSACRegressor\n",
    "from sklearn.linear_model import TheilSenRegressor\n",
    "from sklearn.linear_model import TweedieRegressor"
   ]
  },
  {
   "cell_type": "code",
   "execution_count": null,
   "id": "20163baf",
   "metadata": {},
   "outputs": [],
   "source": [
    "model_4 = HuberRegressor()"
   ]
  },
  {
   "cell_type": "code",
   "execution_count": null,
   "id": "989d5bbe",
   "metadata": {},
   "outputs": [],
   "source": [
    "model_4.fit(x_train, y_train)"
   ]
  },
  {
   "cell_type": "code",
   "execution_count": null,
   "id": "4ef96310",
   "metadata": {},
   "outputs": [],
   "source": [
    "model_4.score(x_test, y_test)"
   ]
  },
  {
   "cell_type": "code",
   "execution_count": null,
   "id": "dca1c6ae",
   "metadata": {},
   "outputs": [],
   "source": [
    "model_5 = PassiveAggressiveRegressor()"
   ]
  },
  {
   "cell_type": "code",
   "execution_count": null,
   "id": "0e96a813",
   "metadata": {},
   "outputs": [],
   "source": [
    "model_5.fit(x_train, y_train)"
   ]
  },
  {
   "cell_type": "code",
   "execution_count": null,
   "id": "b0e80892",
   "metadata": {},
   "outputs": [],
   "source": [
    "model_5.score(x_test, y_test)"
   ]
  },
  {
   "cell_type": "code",
   "execution_count": null,
   "id": "806cfaa9",
   "metadata": {},
   "outputs": [],
   "source": [
    "prediction_5 = model_5.predict(test)"
   ]
  },
  {
   "cell_type": "code",
   "execution_count": null,
   "id": "f6e9919b",
   "metadata": {},
   "outputs": [],
   "source": [
    "prediction_ans_5 = []\n",
    "for i in prediction_5:\n",
    "    if i < 0.5:\n",
    "        prediction_ans_5.append(0)\n",
    "    else:\n",
    "        prediction_ans_5.append(1)\n",
    "len(prediction_ans_5)"
   ]
  },
  {
   "cell_type": "code",
   "execution_count": null,
   "id": "f6597839",
   "metadata": {},
   "outputs": [],
   "source": [
    "get_csv(model_5, test, 'ans_5.csv')"
   ]
  },
  {
   "cell_type": "code",
   "execution_count": null,
   "id": "885c6a84",
   "metadata": {},
   "outputs": [],
   "source": [
    "model_6 = PoissonRegressor()"
   ]
  },
  {
   "cell_type": "code",
   "execution_count": null,
   "id": "27e2b0dc",
   "metadata": {},
   "outputs": [],
   "source": [
    "model_6.fit(x_train, y_train)"
   ]
  },
  {
   "cell_type": "code",
   "execution_count": null,
   "id": "6e0809ad",
   "metadata": {},
   "outputs": [],
   "source": [
    "model_6.score(x_test, y_test)"
   ]
  },
  {
   "cell_type": "code",
   "execution_count": null,
   "id": "4b1db6ad",
   "metadata": {},
   "outputs": [],
   "source": [
    "get_csv(model_6, test, 'ans_6.csv')"
   ]
  },
  {
   "cell_type": "code",
   "execution_count": null,
   "id": "5f1ec416",
   "metadata": {},
   "outputs": [],
   "source": [
    "def get_csv(model, test, ans_name):\n",
    "    prediction = model.predict(test)\n",
    "    \n",
    "    prediction_ans = []\n",
    "    for i in prediction:\n",
    "        if i < 0.5:\n",
    "            prediction_ans.append(0)\n",
    "        else:\n",
    "            prediction_ans.append(1)\n",
    "            \n",
    "    prediction = pd.DataFrame(prediction_ans)\n",
    "    ans = pd.concat([test.PassengerId, prediction], axis=1).astype(int)\n",
    "    ans.rename(columns={0:'Survived'}, inplace=True)\n",
    "    ans.to_csv(ans_name, index=False)"
   ]
  },
  {
   "cell_type": "code",
   "execution_count": 85,
   "id": "4cc00ffd",
   "metadata": {},
   "outputs": [],
   "source": [
    "model_7 = TheilSenRegressor()"
   ]
  },
  {
   "cell_type": "code",
   "execution_count": 90,
   "id": "0ac4eda3",
   "metadata": {},
   "outputs": [
    {
     "data": {
      "text/plain": [
       "TheilSenRegressor(max_subpopulation=10000)"
      ]
     },
     "execution_count": 90,
     "metadata": {},
     "output_type": "execute_result"
    }
   ],
   "source": [
    "model_7.fit(x, y)"
   ]
  },
  {
   "cell_type": "code",
   "execution_count": 91,
   "id": "75ff7c09",
   "metadata": {},
   "outputs": [
    {
     "data": {
      "text/plain": [
       "0.34812085949390525"
      ]
     },
     "execution_count": 91,
     "metadata": {},
     "output_type": "execute_result"
    }
   ],
   "source": [
    "model_7.score(x_test, y_test)"
   ]
  },
  {
   "cell_type": "code",
   "execution_count": null,
   "id": "66f460b5",
   "metadata": {},
   "outputs": [],
   "source": [
    "get_csv(model_7, test, 'ans_7.csv')"
   ]
  },
  {
   "cell_type": "code",
   "execution_count": null,
   "id": "03ab0df9",
   "metadata": {},
   "outputs": [],
   "source": [
    "model_8 = TweedieRegressor()"
   ]
  },
  {
   "cell_type": "code",
   "execution_count": null,
   "id": "3f920078",
   "metadata": {},
   "outputs": [],
   "source": [
    "model_8.fit(x_train, y_train)"
   ]
  },
  {
   "cell_type": "code",
   "execution_count": null,
   "id": "628dfcf1",
   "metadata": {},
   "outputs": [],
   "source": [
    "model_8.score(x_test, y_test)"
   ]
  },
  {
   "cell_type": "code",
   "execution_count": 73,
   "id": "8f264bce",
   "metadata": {},
   "outputs": [],
   "source": [
    "from sklearn import tree"
   ]
  },
  {
   "cell_type": "code",
   "execution_count": 74,
   "id": "5b5fd79c",
   "metadata": {},
   "outputs": [],
   "source": [
    "model_9 = tree.DecisionTreeClassifier()"
   ]
  },
  {
   "cell_type": "code",
   "execution_count": 81,
   "id": "848371bc",
   "metadata": {},
   "outputs": [
    {
     "data": {
      "text/plain": [
       "DecisionTreeClassifier()"
      ]
     },
     "execution_count": 81,
     "metadata": {},
     "output_type": "execute_result"
    }
   ],
   "source": [
    "model_9.fit(x, y)"
   ]
  },
  {
   "cell_type": "code",
   "execution_count": 82,
   "id": "27ecb305",
   "metadata": {},
   "outputs": [
    {
     "data": {
      "text/plain": [
       "1.0"
      ]
     },
     "execution_count": 82,
     "metadata": {},
     "output_type": "execute_result"
    }
   ],
   "source": [
    "model_9.score(x_test, y_test)"
   ]
  },
  {
   "cell_type": "code",
   "execution_count": 83,
   "id": "17c76d6b",
   "metadata": {},
   "outputs": [],
   "source": [
    "get_csv(model_9, test, 'ans_9.csv')"
   ]
  },
  {
   "cell_type": "code",
   "execution_count": 78,
   "id": "8c8a72aa",
   "metadata": {},
   "outputs": [],
   "source": [
    "model_10 = tree.DecisionTreeRegressor()"
   ]
  },
  {
   "cell_type": "code",
   "execution_count": 79,
   "id": "85926ec4",
   "metadata": {},
   "outputs": [
    {
     "data": {
      "text/plain": [
       "DecisionTreeRegressor()"
      ]
     },
     "execution_count": 79,
     "metadata": {},
     "output_type": "execute_result"
    }
   ],
   "source": [
    "model_10.fit(x_train, y_train)"
   ]
  },
  {
   "cell_type": "code",
   "execution_count": 80,
   "id": "b529b911",
   "metadata": {},
   "outputs": [
    {
     "data": {
      "text/plain": [
       "0.05665349143610021"
      ]
     },
     "execution_count": 80,
     "metadata": {},
     "output_type": "execute_result"
    }
   ],
   "source": [
    "model_10.score(x_test, y_test)"
   ]
  },
  {
   "cell_type": "code",
   "execution_count": 94,
   "id": "ca961321",
   "metadata": {},
   "outputs": [
    {
     "data": {
      "text/plain": [
       "LinearRegression()"
      ]
     },
     "execution_count": 94,
     "metadata": {},
     "output_type": "execute_result"
    }
   ],
   "source": [
    "model_1.fit(x,y)"
   ]
  },
  {
   "cell_type": "code",
   "execution_count": 95,
   "id": "357ba44d",
   "metadata": {},
   "outputs": [
    {
     "data": {
      "text/plain": [
       "0.40028158386800516"
      ]
     },
     "execution_count": 95,
     "metadata": {},
     "output_type": "execute_result"
    }
   ],
   "source": [
    "model_1.score(x_train, y_train)"
   ]
  },
  {
   "cell_type": "code",
   "execution_count": 96,
   "id": "e9bbf7c8",
   "metadata": {},
   "outputs": [],
   "source": [
    "get_csv(model_1, test, 'ans_10.csv')"
   ]
  },
  {
   "cell_type": "code",
   "execution_count": 97,
   "id": "d856c202",
   "metadata": {},
   "outputs": [],
   "source": [
    "model_11 = tree.ExtraTreeClassifier()"
   ]
  },
  {
   "cell_type": "code",
   "execution_count": 100,
   "id": "69bda477",
   "metadata": {},
   "outputs": [
    {
     "data": {
      "text/plain": [
       "ExtraTreeClassifier()"
      ]
     },
     "execution_count": 100,
     "metadata": {},
     "output_type": "execute_result"
    }
   ],
   "source": [
    "model_11.fit(x, y)"
   ]
  },
  {
   "cell_type": "code",
   "execution_count": 101,
   "id": "70cc4b47",
   "metadata": {},
   "outputs": [
    {
     "data": {
      "text/plain": [
       "1.0"
      ]
     },
     "execution_count": 101,
     "metadata": {},
     "output_type": "execute_result"
    }
   ],
   "source": [
    "model_11.score(x_test, y_test)"
   ]
  },
  {
   "cell_type": "code",
   "execution_count": 102,
   "id": "2506b0d6",
   "metadata": {},
   "outputs": [],
   "source": [
    "get_csv(model_11, test, 'csv_11.csv')"
   ]
  },
  {
   "cell_type": "code",
   "execution_count": null,
   "id": "0a13216d",
   "metadata": {},
   "outputs": [],
   "source": []
  }
 ],
 "metadata": {
  "kernelspec": {
   "display_name": "Python 3",
   "language": "python",
   "name": "python3"
  },
  "language_info": {
   "codemirror_mode": {
    "name": "ipython",
    "version": 3
   },
   "file_extension": ".py",
   "mimetype": "text/x-python",
   "name": "python",
   "nbconvert_exporter": "python",
   "pygments_lexer": "ipython3",
   "version": "3.8.10"
  }
 },
 "nbformat": 4,
 "nbformat_minor": 5
}
